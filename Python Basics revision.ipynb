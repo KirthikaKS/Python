{
 "cells": [
  {
   "cell_type": "code",
   "execution_count": 1,
   "id": "48da9d97",
   "metadata": {},
   "outputs": [
    {
     "name": "stdout",
     "output_type": "stream",
     "text": [
      "Hello there !\n"
     ]
    }
   ],
   "source": [
    "print('Hello there !')"
   ]
  },
  {
   "cell_type": "code",
   "execution_count": 5,
   "id": "cfb2c1e9",
   "metadata": {},
   "outputs": [
    {
     "name": "stdout",
     "output_type": "stream",
     "text": [
      "What is your first name?\n",
      "kirthika\n"
     ]
    }
   ],
   "source": [
    "print('What is your first name?')\n",
    "firstName = input()\n",
    "firstNamelength = len(firstName)"
   ]
  },
  {
   "cell_type": "code",
   "execution_count": 12,
   "id": "c85ca36e",
   "metadata": {},
   "outputs": [
    {
     "name": "stdout",
     "output_type": "stream",
     "text": [
      "What is your last name?\n",
      "Kulandaivel Senthilkumar\n",
      "24\n"
     ]
    }
   ],
   "source": [
    "print('What is your last name?')\n",
    "lastName = input()\n",
    "lastNamelength = len(lastName)\n",
    "print(lastNamelength)"
   ]
  },
  {
   "cell_type": "code",
   "execution_count": 11,
   "id": "e620118e",
   "metadata": {},
   "outputs": [
    {
     "name": "stdout",
     "output_type": "stream",
     "text": [
      "What is your first name?\n",
      "kirthika\n",
      "What is your last name?\n",
      "kulandaivel senthilkumar\n",
      "your first name is shorter than your last name\n"
     ]
    }
   ],
   "source": [
    "print('Hello there !')\n",
    "\n",
    "print('What is your first name?')\n",
    "firstName = input()\n",
    "firstNamelength = len(firstName)\n",
    "\n",
    "print('What is your last name?')\n",
    "lastName = input()\n",
    "lastNamelength = len(lastName)\n",
    "\n",
    "\n",
    "if firstNamelength > lastNamelength:\n",
    "    print('your last name is shorter than your first name')\n",
    "elif lastNamelength > firstNamelength:\n",
    "    print ('your first name is shorter than your last name')\n",
    "else :\n",
    "    print('Both your first and last name are of equal length')"
   ]
  },
  {
   "cell_type": "code",
   "execution_count": 20,
   "id": "1abedc86",
   "metadata": {},
   "outputs": [
    {
     "name": "stdout",
     "output_type": "stream",
     "text": [
      "Enter you name\n",
      "kirthika\n",
      "Enter your age\n",
      "25\n",
      "Hello kirthika good to see you !\n"
     ]
    }
   ],
   "source": [
    "#Flow control\n",
    "\n",
    "print('Enter you name')\n",
    "name = input()\n",
    "print('Enter your age')\n",
    "age = input()\n",
    "\n",
    "if name == 'kirthika' :\n",
    "    print('Hello '+ name +' good to see you !')\n",
    "    if age < '12':\n",
    "        print('You are a kid')\n",
    "elif age <= '30' :\n",
    "    print('Guess you are pretty young !')\n",
    "else :\n",
    "    print('Hello Stranger')"
   ]
  },
  {
   "cell_type": "code",
   "execution_count": 23,
   "id": "39b8e031",
   "metadata": {},
   "outputs": [
    {
     "name": "stdout",
     "output_type": "stream",
     "text": [
      "you have 0 coins\n",
      "you have 1 coins\n",
      "you have 2 coins\n",
      "you have 3 coins\n",
      "you have 4 coins\n",
      "you have 5 coins\n",
      "Good bye !\n"
     ]
    }
   ],
   "source": [
    "#while loopv- when condition is not know\n",
    "\n",
    "coins = 0\n",
    "while coins <= 5 :\n",
    "    print(\"you have \" + str(coins) + \" coins\")\n",
    "    coins = coins + 1\n",
    "print(\"Good bye !\")"
   ]
  },
  {
   "cell_type": "code",
   "execution_count": 24,
   "id": "f115018e",
   "metadata": {},
   "outputs": [
    {
     "name": "stdout",
     "output_type": "stream",
     "text": [
      "What is your name\n",
      "kirthu\n",
      "What is your name\n",
      "senthil\n",
      "What is your name\n",
      "kirthika\n",
      "What is your name\n",
      "Kirthika\n",
      "Hello Kirthika !!\n"
     ]
    }
   ],
   "source": [
    "name = ''\n",
    "\n",
    "while name != 'Kirthika' :\n",
    "    print('What is your name')\n",
    "    name = input()\n",
    "print('Hello Kirthika !!')"
   ]
  },
  {
   "cell_type": "code",
   "execution_count": 27,
   "id": "b8aef4bd",
   "metadata": {},
   "outputs": [
    {
     "name": "stdout",
     "output_type": "stream",
     "text": [
      "What is your name\n",
      "kirthika\n",
      "What is your name\n",
      "senthil\n",
      "What is your name\n",
      "Kirthika\n",
      "Hello Kirthika !!\n"
     ]
    }
   ],
   "source": [
    "#break\n",
    "\n",
    "while True :\n",
    "    print('What is your name')\n",
    "    name = input()\n",
    "    if name == 'Kirthika' :\n",
    "        break;\n",
    "print('Hello Kirthika !!')\n",
    "\n"
   ]
  },
  {
   "cell_type": "code",
   "execution_count": 29,
   "id": "15c7c528",
   "metadata": {},
   "outputs": [
    {
     "name": "stdout",
     "output_type": "stream",
     "text": [
      "What is your name ?\n",
      "Senthil\n",
      "What is your name ?\n",
      "Kulandaivel\n",
      "What is your name ?\n",
      "Malar\n",
      "What is your name ?\n",
      "kirthika\n",
      "What is your name ?\n",
      "Kirthika\n",
      "Enter your password: \n",
      "ksk\n",
      "What is your name ?\n",
      "Kirthika\n",
      "Enter your password: \n",
      "admin\n",
      "Welcom Kirthika !!!\n"
     ]
    }
   ],
   "source": [
    "#continue and break\n",
    "\n",
    "while True:\n",
    "    print('What is your name ?')\n",
    "    name = input()\n",
    "    if name != 'Kirthika':\n",
    "          continue\n",
    "    print('Enter your password: ')\n",
    "    pwd = input()\n",
    "    if pwd == 'admin':\n",
    "        break\n",
    "print('Welcom Kirthika !!!')"
   ]
  },
  {
   "cell_type": "code",
   "execution_count": 33,
   "id": "704fc84d",
   "metadata": {},
   "outputs": [
    {
     "name": "stdout",
     "output_type": "stream",
     "text": [
      "Current value is -->  5\n",
      "Current value is -->  7\n",
      "Current value is -->  9\n",
      "Current value is -->  11\n",
      "Current value is -->  13\n"
     ]
    }
   ],
   "source": [
    "# for loop - when u know the start and end of the loop\n",
    "\n",
    "#for i in range(5):\n",
    "\n",
    "#for i in range(5,15):\n",
    "\n",
    "for i in range(5,15,2):\n",
    "    print('Current value is --> ', i)\n",
    "\n"
   ]
  },
  {
   "cell_type": "code",
   "execution_count": 36,
   "id": "9415ad2e",
   "metadata": {},
   "outputs": [
    {
     "name": "stdout",
     "output_type": "stream",
     "text": [
      "Current value is ---> C\n",
      "Current value is ---> C++\n",
      "Current value is ---> Java\n",
      "Current value is ---> Python\n"
     ]
    }
   ],
   "source": [
    "#data = 'Kirthika'\n",
    "\n",
    "data = ['C','C++','Java','Python']\n",
    "\n",
    "for value in data:\n",
    "    print('Current value is --->', value)"
   ]
  },
  {
   "cell_type": "code",
   "execution_count": 38,
   "id": "9032ec39",
   "metadata": {},
   "outputs": [
    {
     "name": "stdout",
     "output_type": "stream",
     "text": [
      "Current value is ---> C\n",
      "Current value is ---> C++\n",
      "Current value is ---> Java\n",
      "You are tricked we not learning java but \"Python\" !!\n"
     ]
    }
   ],
   "source": [
    "#break in for loop\n",
    "\n",
    "data = ['C','C++','Java','Python']\n",
    "\n",
    "for value in data:\n",
    "    print('Current value is --->', value)\n",
    "    if value == 'Java' :\n",
    "        print('You are tricked we not learning java but \"Python\" !!')\n",
    "        break\n"
   ]
  },
  {
   "cell_type": "code",
   "execution_count": 54,
   "id": "dfe7d281",
   "metadata": {},
   "outputs": [
    {
     "name": "stdout",
     "output_type": "stream",
     "text": [
      "Today date is 2025-01-09\n",
      "I am printing a random number --> 58\n",
      "Enter a name: KIRTHU\n",
      "No. of Vowels are :  2\n",
      "['C:\\\\Users\\\\KIRTHIKA K S', 'C:\\\\Users\\\\KIRTHIKA K S\\\\Anaconda\\\\python39.zip', 'C:\\\\Users\\\\KIRTHIKA K S\\\\Anaconda\\\\DLLs', 'C:\\\\Users\\\\KIRTHIKA K S\\\\Anaconda\\\\lib', 'C:\\\\Users\\\\KIRTHIKA K S\\\\Anaconda', '', 'C:\\\\Users\\\\KIRTHIKA K S\\\\Anaconda\\\\lib\\\\site-packages', 'C:\\\\Users\\\\KIRTHIKA K S\\\\Anaconda\\\\lib\\\\site-packages\\\\win32', 'C:\\\\Users\\\\KIRTHIKA K S\\\\Anaconda\\\\lib\\\\site-packages\\\\win32\\\\lib', 'C:\\\\Users\\\\KIRTHIKA K S\\\\Anaconda\\\\lib\\\\site-packages\\\\Pythonwin', 'C:\\\\Users\\\\KIRTHIKA K S\\\\Anaconda\\\\lib\\\\site-packages\\\\IPython\\\\extensions', 'C:\\\\Users\\\\KIRTHIKA K S\\\\.ipython']\n"
     ]
    }
   ],
   "source": [
    "# Import (below are inbuit python modules)\n",
    "\n",
    "import datetime, random as rn\n",
    "import sys\n",
    "import webbrowser as wb\n",
    "import countVowels\n",
    "\n",
    "print('Today date is', datetime.date.today())\n",
    "\n",
    "#sys.exit() #to stop the execution\n",
    "\n",
    "print('I am printing a random number -->',rn.randint(1,100))\n",
    "\n",
    "#wb.open('https://github.com/KirthikaKS')\n",
    "\n",
    "name = input('Enter a name: ')\n",
    "\n",
    "print('No. of Vowels are : ', countVowels.countVowels(name))\n",
    "\n",
    "print(sys.path)\n",
    "\n",
    "#we can also add a curtom path to the sys path by using python path environment variable "
   ]
  },
  {
   "cell_type": "code",
   "execution_count": null,
   "id": "85d1ea3c",
   "metadata": {},
   "outputs": [],
   "source": [
    "# Functions\n",
    "    "
   ]
  }
 ],
 "metadata": {
  "kernelspec": {
   "display_name": "Python 3 (ipykernel)",
   "language": "python",
   "name": "python3"
  },
  "language_info": {
   "codemirror_mode": {
    "name": "ipython",
    "version": 3
   },
   "file_extension": ".py",
   "mimetype": "text/x-python",
   "name": "python",
   "nbconvert_exporter": "python",
   "pygments_lexer": "ipython3",
   "version": "3.9.13"
  }
 },
 "nbformat": 4,
 "nbformat_minor": 5
}
