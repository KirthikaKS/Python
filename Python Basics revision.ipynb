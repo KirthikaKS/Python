{
 "cells": [
  {
   "cell_type": "code",
   "execution_count": 1,
   "id": "df85e605",
   "metadata": {},
   "outputs": [
    {
     "name": "stdout",
     "output_type": "stream",
     "text": [
      "Hello there !\n"
     ]
    }
   ],
   "source": [
    "print('Hello there !')"
   ]
  },
  {
   "cell_type": "code",
   "execution_count": 5,
   "id": "28d9f1c5",
   "metadata": {},
   "outputs": [
    {
     "name": "stdout",
     "output_type": "stream",
     "text": [
      "What is your first name?\n",
      "kirthika\n"
     ]
    }
   ],
   "source": [
    "print('What is your first name?')\n",
    "firstName = input()\n",
    "firstNamelength = len(firstName)"
   ]
  },
  {
   "cell_type": "code",
   "execution_count": 12,
   "id": "1deca4eb",
   "metadata": {
    "scrolled": true
   },
   "outputs": [
    {
     "name": "stdout",
     "output_type": "stream",
     "text": [
      "What is your last name?\n",
      "Kulandaivel Senthilkumar\n",
      "24\n"
     ]
    }
   ],
   "source": [
    "print('What is your last name?')\n",
    "lastName = input()\n",
    "lastNamelength = len(lastName)\n",
    "print(lastNamelength)"
   ]
  },
  {
   "cell_type": "code",
   "execution_count": 11,
   "id": "9b6b2a89",
   "metadata": {},
   "outputs": [
    {
     "name": "stdout",
     "output_type": "stream",
     "text": [
      "What is your first name?\n",
      "kirthika\n",
      "What is your last name?\n",
      "kulandaivel senthilkumar\n",
      "your first name is shorter than your last name\n"
     ]
    }
   ],
   "source": [
    "print('Hello there !')\n",
    "\n",
    "print('What is your first name?')\n",
    "firstName = input()\n",
    "firstNamelength = len(firstName)\n",
    "\n",
    "print('What is your last name?')\n",
    "lastName = input()\n",
    "lastNamelength = len(lastName)\n",
    "\n",
    "\n",
    "if firstNamelength > lastNamelength:\n",
    "    print('your last name is shorter than your first name')\n",
    "elif lastNamelength > firstNamelength:\n",
    "    print ('your first name is shorter than your last name')\n",
    "else :\n",
    "    print('Both your first and last name are of equal length')"
   ]
  },
  {
   "cell_type": "code",
   "execution_count": 20,
   "id": "bbc5d7eb",
   "metadata": {},
   "outputs": [
    {
     "name": "stdout",
     "output_type": "stream",
     "text": [
      "Enter you name\n",
      "kirthika\n",
      "Enter your age\n",
      "25\n",
      "Hello kirthika good to see you !\n"
     ]
    }
   ],
   "source": [
    "#Flow control\n",
    "\n",
    "print('Enter you name')\n",
    "name = input()\n",
    "print('Enter your age')\n",
    "age = input()\n",
    "\n",
    "if name == 'kirthika' :\n",
    "    print('Hello '+ name +' good to see you !')\n",
    "    if age < '12':\n",
    "        print('You are a kid')\n",
    "elif age <= '30' :\n",
    "    print('Guess you are pretty young !')\n",
    "else :\n",
    "    print('Hello Stranger')"
   ]
  },
  {
   "cell_type": "code",
   "execution_count": 23,
   "id": "1511226a",
   "metadata": {},
   "outputs": [
    {
     "name": "stdout",
     "output_type": "stream",
     "text": [
      "you have 0 coins\n",
      "you have 1 coins\n",
      "you have 2 coins\n",
      "you have 3 coins\n",
      "you have 4 coins\n",
      "you have 5 coins\n",
      "Good bye !\n"
     ]
    }
   ],
   "source": [
    "#while loopv- when condition is not know\n",
    "\n",
    "coins = 0\n",
    "while coins <= 5 :\n",
    "    print(\"you have \" + str(coins) + \" coins\")\n",
    "    coins = coins + 1\n",
    "print(\"Good bye !\")"
   ]
  },
  {
   "cell_type": "code",
   "execution_count": 24,
   "id": "cba9fdef",
   "metadata": {},
   "outputs": [
    {
     "name": "stdout",
     "output_type": "stream",
     "text": [
      "What is your name\n",
      "kirthu\n",
      "What is your name\n",
      "senthil\n",
      "What is your name\n",
      "kirthika\n",
      "What is your name\n",
      "Kirthika\n",
      "Hello Kirthika !!\n"
     ]
    }
   ],
   "source": [
    "name = ''\n",
    "\n",
    "while name != 'Kirthika' :\n",
    "    print('What is your name')\n",
    "    name = input()\n",
    "print('Hello Kirthika !!')"
   ]
  },
  {
   "cell_type": "code",
   "execution_count": 27,
   "id": "41dc01e9",
   "metadata": {},
   "outputs": [
    {
     "name": "stdout",
     "output_type": "stream",
     "text": [
      "What is your name\n",
      "kirthika\n",
      "What is your name\n",
      "senthil\n",
      "What is your name\n",
      "Kirthika\n",
      "Hello Kirthika !!\n"
     ]
    }
   ],
   "source": [
    "#break\n",
    "\n",
    "while True :\n",
    "    print('What is your name')\n",
    "    name = input()\n",
    "    if name == 'Kirthika' :\n",
    "        break;\n",
    "print('Hello Kirthika !!')\n",
    "\n"
   ]
  },
  {
   "cell_type": "code",
   "execution_count": 29,
   "id": "96e9cb3d",
   "metadata": {},
   "outputs": [
    {
     "name": "stdout",
     "output_type": "stream",
     "text": [
      "What is your name ?\n",
      "Senthil\n",
      "What is your name ?\n",
      "Kulandaivel\n",
      "What is your name ?\n",
      "Malar\n",
      "What is your name ?\n",
      "kirthika\n",
      "What is your name ?\n",
      "Kirthika\n",
      "Enter your password: \n",
      "ksk\n",
      "What is your name ?\n",
      "Kirthika\n",
      "Enter your password: \n",
      "admin\n",
      "Welcom Kirthika !!!\n"
     ]
    }
   ],
   "source": [
    "#continue and break\n",
    "\n",
    "while True:\n",
    "    print('What is your name ?')\n",
    "    name = input()\n",
    "    if name != 'Kirthika':\n",
    "          continue\n",
    "    print('Enter your password: ')\n",
    "    pwd = input()\n",
    "    if pwd == 'admin':\n",
    "        break\n",
    "print('Welcom Kirthika !!!')"
   ]
  },
  {
   "cell_type": "code",
   "execution_count": 33,
   "id": "3fffae92",
   "metadata": {},
   "outputs": [
    {
     "name": "stdout",
     "output_type": "stream",
     "text": [
      "Current value is -->  5\n",
      "Current value is -->  7\n",
      "Current value is -->  9\n",
      "Current value is -->  11\n",
      "Current value is -->  13\n"
     ]
    }
   ],
   "source": [
    "# for loop - when u know the start and end of the loop\n",
    "\n",
    "#for i in range(5):\n",
    "\n",
    "#for i in range(5,15):\n",
    "\n",
    "for i in range(5,15,2):\n",
    "    print('Current value is --> ', i)\n",
    "\n"
   ]
  },
  {
   "cell_type": "code",
   "execution_count": 36,
   "id": "c21fc63a",
   "metadata": {},
   "outputs": [
    {
     "name": "stdout",
     "output_type": "stream",
     "text": [
      "Current value is ---> C\n",
      "Current value is ---> C++\n",
      "Current value is ---> Java\n",
      "Current value is ---> Python\n"
     ]
    }
   ],
   "source": [
    "#data = 'Kirthika'\n",
    "\n",
    "data = ['C','C++','Java','Python']\n",
    "\n",
    "for value in data:\n",
    "    print('Current value is --->', value)"
   ]
  },
  {
   "cell_type": "code",
   "execution_count": 38,
   "id": "d40df2a1",
   "metadata": {},
   "outputs": [
    {
     "name": "stdout",
     "output_type": "stream",
     "text": [
      "Current value is ---> C\n",
      "Current value is ---> C++\n",
      "Current value is ---> Java\n",
      "You are tricked we not learning java but \"Python\" !!\n"
     ]
    }
   ],
   "source": [
    "#break in for loop\n",
    "\n",
    "data = ['C','C++','Java','Python']\n",
    "\n",
    "for value in data:\n",
    "    print('Current value is --->', value)\n",
    "    if value == 'Java' :\n",
    "        print('You are tricked we not learning java but \"Python\" !!')\n",
    "        break\n"
   ]
  },
  {
   "cell_type": "code",
   "execution_count": 54,
   "id": "fafa6fb0",
   "metadata": {},
   "outputs": [
    {
     "name": "stdout",
     "output_type": "stream",
     "text": [
      "Today date is 2025-01-09\n",
      "I am printing a random number --> 58\n",
      "Enter a name: KIRTHU\n",
      "No. of Vowels are :  2\n",
      "['C:\\\\Users\\\\KIRTHIKA K S', 'C:\\\\Users\\\\KIRTHIKA K S\\\\Anaconda\\\\python39.zip', 'C:\\\\Users\\\\KIRTHIKA K S\\\\Anaconda\\\\DLLs', 'C:\\\\Users\\\\KIRTHIKA K S\\\\Anaconda\\\\lib', 'C:\\\\Users\\\\KIRTHIKA K S\\\\Anaconda', '', 'C:\\\\Users\\\\KIRTHIKA K S\\\\Anaconda\\\\lib\\\\site-packages', 'C:\\\\Users\\\\KIRTHIKA K S\\\\Anaconda\\\\lib\\\\site-packages\\\\win32', 'C:\\\\Users\\\\KIRTHIKA K S\\\\Anaconda\\\\lib\\\\site-packages\\\\win32\\\\lib', 'C:\\\\Users\\\\KIRTHIKA K S\\\\Anaconda\\\\lib\\\\site-packages\\\\Pythonwin', 'C:\\\\Users\\\\KIRTHIKA K S\\\\Anaconda\\\\lib\\\\site-packages\\\\IPython\\\\extensions', 'C:\\\\Users\\\\KIRTHIKA K S\\\\.ipython']\n"
     ]
    }
   ],
   "source": [
    "# Import (below are inbuit python modules)\n",
    "\n",
    "import datetime, random as rn\n",
    "import sys\n",
    "import webbrowser as wb\n",
    "import countVowels\n",
    "\n",
    "print('Today date is', datetime.date.today())\n",
    "\n",
    "#sys.exit() #to stop the execution\n",
    "\n",
    "print('I am printing a random number -->',rn.randint(1,100))\n",
    "\n",
    "#wb.open('https://github.com/KirthikaKS')\n",
    "\n",
    "name = input('Enter a name: ')\n",
    "\n",
    "print('No. of Vowels are : ', countVowels.countVowels(name))\n",
    "\n",
    "print(sys.path)\n",
    "\n",
    "#we can also add a curtom path to the sys path by using python path environment variable "
   ]
  },
  {
   "cell_type": "code",
   "execution_count": 1,
   "id": "65b455df",
   "metadata": {},
   "outputs": [
    {
     "name": "stdout",
     "output_type": "stream",
     "text": [
      "you have called the function successfully !\n"
     ]
    }
   ],
   "source": [
    "# Functions\n",
    "def learn():\n",
    "    print(\"you have called the function successfully !\")\n",
    "    \n",
    "learn()"
   ]
  },
  {
   "cell_type": "code",
   "execution_count": 7,
   "id": "ba5a51dd",
   "metadata": {},
   "outputs": [
    {
     "name": "stdout",
     "output_type": "stream",
     "text": [
      "you have called the function successfully !\n",
      "The programmer name is Kirthika\n"
     ]
    }
   ],
   "source": [
    "def learn(name):\n",
    "    print(\"you have called the function successfully !\")\n",
    "    print(\"The programmer name is\", name)\n",
    "\n",
    "learn('Kirthika')"
   ]
  },
  {
   "cell_type": "code",
   "execution_count": 10,
   "id": "15b9fbff",
   "metadata": {},
   "outputs": [
    {
     "name": "stdout",
     "output_type": "stream",
     "text": [
      "you have called the function successfully !\n",
      "The programmer name is Kirthika\n",
      "result =  Kirthika\n"
     ]
    }
   ],
   "source": [
    "def learn(name):\n",
    "    print(\"you have called the function successfully !\")\n",
    "    print(\"The programmer name is\", name)\n",
    "    return name\n",
    "\n",
    "result = learn('Kirthika')\n",
    "print(\"result = \", result)"
   ]
  },
  {
   "cell_type": "code",
   "execution_count": 15,
   "id": "e1eac3e7",
   "metadata": {},
   "outputs": [
    {
     "name": "stdout",
     "output_type": "stream",
     "text": [
      "What is your name ? Kirthika Kulandaivel Senthilkumar\n",
      "Vowels in your name are 12\n"
     ]
    }
   ],
   "source": [
    "#count the number of vowels in the given string\n",
    "\n",
    "def countVowels(given_string):\n",
    "    cnt = 0\n",
    "    for character in given_string:\n",
    "        if character in ('A','E','I','O','U','a','e','i','o','u'):\n",
    "            cnt += 1\n",
    "    return cnt\n",
    "    \n",
    "\n",
    "name = input('What is your name ? ')\n",
    "result = countVowels(name)\n",
    "\n",
    "print(\"Vowels in your name are\", result)"
   ]
  },
  {
   "cell_type": "code",
   "execution_count": 17,
   "id": "19412b30",
   "metadata": {},
   "outputs": [
    {
     "name": "stdout",
     "output_type": "stream",
     "text": [
      "local test 1\n",
      "local test 2\n",
      "local test 3\n",
      "global\n"
     ]
    }
   ],
   "source": [
    "#local and global scope\n",
    "\n",
    "def test1():\n",
    "    a = 'local test 1' #local variable\n",
    "    print(a)\n",
    "    test2()\n",
    "    \n",
    "def test2():\n",
    "    b = 'local test 2' #local variable\n",
    "    print(b)\n",
    "    test3()\n",
    "    \n",
    "def test3():\n",
    "    c = 'local test 3' #local variable\n",
    "    print(c)\n",
    "    \n",
    "    \n",
    "x = 'global' # global variable\n",
    "test1()\n",
    "print(x)"
   ]
  },
  {
   "cell_type": "code",
   "execution_count": 22,
   "id": "2d62a371",
   "metadata": {},
   "outputs": [
    {
     "name": "stdout",
     "output_type": "stream",
     "text": [
      "global\n"
     ]
    }
   ],
   "source": [
    "#local variable cannot be accessed in a global scope\n",
    "\n",
    "a = 'global'\n",
    "\n",
    "def test():\n",
    "    a = 'local'\n",
    "    \n",
    "test()\n",
    "print(a)  # error name 'a' is not defined - as we are accessing local variable from a global scope\n",
    "\n",
    "#when we add a in global scope we get that value while printing\n"
   ]
  },
  {
   "cell_type": "code",
   "execution_count": 25,
   "id": "0e512f8f",
   "metadata": {},
   "outputs": [
    {
     "ename": "NameError",
     "evalue": "name 'c' is not defined",
     "output_type": "error",
     "traceback": [
      "\u001b[1;31m---------------------------------------------------------------------------\u001b[0m",
      "\u001b[1;31mNameError\u001b[0m                                 Traceback (most recent call last)",
      "\u001b[1;32m~\\AppData\\Local\\Temp\\ipykernel_28808\\132603307.py\u001b[0m in \u001b[0;36m<module>\u001b[1;34m\u001b[0m\n\u001b[0;32m      8\u001b[0m     \u001b[0mprint\u001b[0m\u001b[1;33m(\u001b[0m\u001b[0mc\u001b[0m\u001b[1;33m)\u001b[0m\u001b[1;33m\u001b[0m\u001b[1;33m\u001b[0m\u001b[0m\n\u001b[0;32m      9\u001b[0m \u001b[1;33m\u001b[0m\u001b[0m\n\u001b[1;32m---> 10\u001b[1;33m \u001b[0mtest2\u001b[0m\u001b[1;33m(\u001b[0m\u001b[1;33m)\u001b[0m\u001b[1;33m\u001b[0m\u001b[1;33m\u001b[0m\u001b[0m\n\u001b[0m",
      "\u001b[1;32m~\\AppData\\Local\\Temp\\ipykernel_28808\\132603307.py\u001b[0m in \u001b[0;36mtest2\u001b[1;34m()\u001b[0m\n\u001b[0;32m      6\u001b[0m \u001b[1;32mdef\u001b[0m \u001b[0mtest2\u001b[0m\u001b[1;33m(\u001b[0m\u001b[1;33m)\u001b[0m\u001b[1;33m:\u001b[0m\u001b[1;33m\u001b[0m\u001b[1;33m\u001b[0m\u001b[0m\n\u001b[0;32m      7\u001b[0m     \u001b[0mtest1\u001b[0m\u001b[1;33m(\u001b[0m\u001b[1;33m)\u001b[0m\u001b[1;33m\u001b[0m\u001b[1;33m\u001b[0m\u001b[0m\n\u001b[1;32m----> 8\u001b[1;33m     \u001b[0mprint\u001b[0m\u001b[1;33m(\u001b[0m\u001b[0mc\u001b[0m\u001b[1;33m)\u001b[0m\u001b[1;33m\u001b[0m\u001b[1;33m\u001b[0m\u001b[0m\n\u001b[0m\u001b[0;32m      9\u001b[0m \u001b[1;33m\u001b[0m\u001b[0m\n\u001b[0;32m     10\u001b[0m \u001b[0mtest2\u001b[0m\u001b[1;33m(\u001b[0m\u001b[1;33m)\u001b[0m\u001b[1;33m\u001b[0m\u001b[1;33m\u001b[0m\u001b[0m\n",
      "\u001b[1;31mNameError\u001b[0m: name 'c' is not defined"
     ]
    }
   ],
   "source": [
    "#local variable cannot be accessed by other local scope \n",
    "\n",
    "def test1():  #local scope 1\n",
    "   c = 'local test1'\n",
    "    \n",
    "def test2(): #local scope 2\n",
    "    test1()\n",
    "    print(c) # variable c is in local scope 1 so it can't be accessed from another local scope\n",
    "    \n",
    "test2()"
   ]
  },
  {
   "cell_type": "code",
   "execution_count": 28,
   "id": "2a18af6c",
   "metadata": {},
   "outputs": [
    {
     "ename": "UnboundLocalError",
     "evalue": "local variable 'b' referenced before assignment",
     "output_type": "error",
     "traceback": [
      "\u001b[1;31m---------------------------------------------------------------------------\u001b[0m",
      "\u001b[1;31mUnboundLocalError\u001b[0m                         Traceback (most recent call last)",
      "\u001b[1;32m~\\AppData\\Local\\Temp\\ipykernel_28808\\2642101140.py\u001b[0m in \u001b[0;36m<module>\u001b[1;34m\u001b[0m\n\u001b[0;32m     12\u001b[0m     \u001b[1;31m#precedence is local then global , when both have same name the local is considered\u001b[0m\u001b[1;33m\u001b[0m\u001b[1;33m\u001b[0m\u001b[0m\n\u001b[0;32m     13\u001b[0m \u001b[1;33m\u001b[0m\u001b[0m\n\u001b[1;32m---> 14\u001b[1;33m \u001b[0mtest\u001b[0m\u001b[1;33m(\u001b[0m\u001b[1;33m)\u001b[0m\u001b[1;33m\u001b[0m\u001b[1;33m\u001b[0m\u001b[0m\n\u001b[0m\u001b[0;32m     15\u001b[0m \u001b[1;33m\u001b[0m\u001b[0m\n",
      "\u001b[1;32m~\\AppData\\Local\\Temp\\ipykernel_28808\\2642101140.py\u001b[0m in \u001b[0;36mtest\u001b[1;34m()\u001b[0m\n\u001b[0;32m      5\u001b[0m \u001b[1;32mdef\u001b[0m \u001b[0mtest\u001b[0m\u001b[1;33m(\u001b[0m\u001b[1;33m)\u001b[0m\u001b[1;33m:\u001b[0m\u001b[1;33m\u001b[0m\u001b[1;33m\u001b[0m\u001b[0m\n\u001b[0;32m      6\u001b[0m \u001b[1;33m\u001b[0m\u001b[0m\n\u001b[1;32m----> 7\u001b[1;33m     \u001b[0mprint\u001b[0m\u001b[1;33m(\u001b[0m\u001b[0mb\u001b[0m\u001b[1;33m)\u001b[0m \u001b[1;31m# when you\u001b[0m\u001b[1;33m\u001b[0m\u001b[1;33m\u001b[0m\u001b[0m\n\u001b[0m\u001b[0;32m      8\u001b[0m \u001b[1;33m\u001b[0m\u001b[0m\n\u001b[0;32m      9\u001b[0m     \u001b[0mb\u001b[0m \u001b[1;33m=\u001b[0m \u001b[1;34m'local'\u001b[0m\u001b[1;33m\u001b[0m\u001b[1;33m\u001b[0m\u001b[0m\n",
      "\u001b[1;31mUnboundLocalError\u001b[0m: local variable 'b' referenced before assignment"
     ]
    }
   ],
   "source": [
    "#global variable can be accessed anywhere from a program\n",
    "\n",
    "b = 'global'\n",
    "\n",
    "def test():\n",
    "    \n",
    "    print(b) # when we use the variable before defining we will get local variable 'b' referenced before assignment\n",
    "    \n",
    "    #in the above case it will not look for global variable because we have local variable defined in our local scope , only when it is not at all defined it goes to global scope\n",
    "    \n",
    "    b = 'local'\n",
    "    print(b) # checks is the variable is in local scope if it is not present then checks the global scope which implies that global scope is accessible from anywhere\n",
    "    \n",
    "    #precedence is local then global , when both have same name the local is considered\n",
    "    \n",
    "test()  \n",
    " "
   ]
  },
  {
   "cell_type": "code",
   "execution_count": 29,
   "id": "c7720f90",
   "metadata": {},
   "outputs": [
    {
     "name": "stdout",
     "output_type": "stream",
     "text": [
      "I am a global variable\n",
      "i have been modified inside the local scope\n"
     ]
    }
   ],
   "source": [
    "#both the local and global variables can share the same name \n",
    "#global variable can be modified inside a local scope using \"global\" keyword\n",
    "\n",
    "\n",
    "m = 'I am a global variable'\n",
    "\n",
    "def test():\n",
    "    global m\n",
    "    m = 'i have been modified inside the local scope'\n",
    "    \n",
    "print(m)\n",
    "test()\n",
    "print(m)"
   ]
  },
  {
   "cell_type": "code",
   "execution_count": 35,
   "id": "b94fdfad",
   "metadata": {},
   "outputs": [
    {
     "name": "stdout",
     "output_type": "stream",
     "text": [
      "8\n",
      "54\n",
      "unsupported operand type(s) for +: 'int' and 'str'\n",
      "89\n",
      "Execution complete\n"
     ]
    }
   ],
   "source": [
    "#Exception Handling - try, except , else , finally , user defined exceptions\n",
    "\n",
    "def addnumbers(num1,num2):  \n",
    "    try:\n",
    "        return(num1 + num2)\n",
    "   # except TypeError:  #this try except only handles the type error and not other kind of errors\n",
    "        # return ('Invalid Number format') \n",
    "   # except NameError:  #this handles the error when we use name234 because that parameter is not defined \n",
    "        # return ('Invalid parameter')\n",
    "#we dont always know what error we get so we can handle it using a general exception as follows\n",
    "     except Exception as e :\n",
    "          return (e)\n",
    "\n",
    "    \n",
    "    \n",
    "print(addnumbers(2,6))\n",
    "print(addnumbers(26,28))\n",
    "print(addnumbers(8,'k'))\n",
    "print(addnumbers(33,56))\n",
    "print('Execution complete')\n"
   ]
  },
  {
   "cell_type": "code",
   "execution_count": 40,
   "id": "c5242614",
   "metadata": {},
   "outputs": [
    {
     "name": "stdout",
     "output_type": "stream",
     "text": [
      "8\n",
      "54\n",
      "Only int and float values are allowed\n",
      "89\n",
      "Only int and float values are allowed\n",
      "98.6855\n",
      "Execution complete\n"
     ]
    }
   ],
   "source": [
    "# user defined exception \n",
    "# so you want asn exception when the input values are not int or float\n",
    "\n",
    "def addnumbers(num1,num2):\n",
    "    try:\n",
    "        if (isinstance(num1,int) or isinstance(num1,float)) and (isinstance(num2,int) or isinstance(num2,float)) :\n",
    "            return(num1 + num2)\n",
    "     \n",
    "        else:\n",
    "            raise Exception('Only int and float values are allowed')\n",
    "    \n",
    "    except Exception as e:\n",
    "        return e\n",
    "    \n",
    "\n",
    "print(addnumbers(2,6))\n",
    "print(addnumbers(26,28))\n",
    "print(addnumbers('a','k')) # two strings so they are concatenated\n",
    "print(addnumbers(33,56))\n",
    "print(addnumbers(45,'k'))\n",
    "print(addnumbers(98.34,0.3455))\n",
    "print('Execution complete')\n"
   ]
  },
  {
   "cell_type": "code",
   "execution_count": 49,
   "id": "974b4160",
   "metadata": {},
   "outputs": [
    {
     "name": "stdout",
     "output_type": "stream",
     "text": [
      "14\n",
      "Success\n",
      "The end\n"
     ]
    }
   ],
   "source": [
    "#else and finally\n",
    "\n",
    "def addnum(num3,num4):\n",
    "    try:\n",
    "        print(num3 + num4)\n",
    "    \n",
    "    except TypeError:\n",
    "        print('Invalid number')\n",
    "        \n",
    "    except Exception as e:\n",
    "        print(e)\n",
    "    \n",
    "    else:\n",
    "        print('Success')\n",
    "        \n",
    "    finally:\n",
    "        print('The end')\n",
    "        \n",
    "# addnum(23,56) - o/p is success\n",
    "\n",
    "# addnum('d',45)  - o/p is invalid number\n",
    "\n",
    "addnum(6,8) # after adding finally block the o/p is 14,success, the end\n",
    "\n",
    "\n"
   ]
  },
  {
   "cell_type": "code",
   "execution_count": 89,
   "id": "b3d6d1b1",
   "metadata": {},
   "outputs": [
    {
     "name": "stdout",
     "output_type": "stream",
     "text": [
      "['banana', 'Apple', 'Orange', 'blueberry', 'mango']\n",
      "[10, 20, 40, 50]\n",
      "['x', 'y', 'z', 1, 2, True, False, ['list', 'within', 'list'], 3.4, 0.9, None]\n",
      "Orange\n",
      "['list', 'within', 'list']\n",
      "within\n",
      "['banana', 'Apple', 'Orange']\n",
      "['banana', 'Apple', 'Orange']\n",
      "['Orange', 'blueberry', 'mango']\n",
      "['banana', 'Apple', 'Orange', 'blueberry', 'mango']\n",
      "['banana', 'Apple', 'Orange', 'blueberry']\n",
      "['pineapple', 'Orange', 'blueberry', 'mango', 'guavava']\n",
      "[None, 0.9, 3.4, ['list', 'within', 'list'], False, True, 2, 1, 'z', 'y', 'x']\n",
      "['Orange', 'blueberry', 'guavava', 'mango', 'pineapple']\n",
      "[50, 40, 20, 10]\n",
      "['blueberry', 'guavava', 'mango', 'Orange', 'pineapple']\n",
      "0 blueberry\n",
      "1 guavava\n",
      "2 mango\n",
      "3 Orange\n",
      "4 pineapple\n",
      "['blueberry', 'guavava', 'mango', 'Orange', 'pineapple', 50, 40, 20, 10]\n"
     ]
    }
   ],
   "source": [
    "#lists\n",
    " \n",
    "fruits = ['banana','Apple','Orange','blueberry','mango']\n",
    "\n",
    "numbers = [10,20,40,50]\n",
    "\n",
    "data = ['x','y','z',1,2,True,False,['list','within','list'],3.4,0.9,None]\n",
    "\n",
    "print(fruits)\n",
    "print(numbers)\n",
    "print(data)\n",
    "\n",
    "#to access individual elements we can use indexes\n",
    "\n",
    "print(fruits[2])\n",
    "    \n",
    "    \n",
    "print(data[-4])\n",
    "\n",
    "#to access the list index in a list within a list\n",
    "\n",
    "print(data[-4][1]) \n",
    "\n",
    "#using slicers to form a list from a list\n",
    "\n",
    "print(fruits[0:3])\n",
    "\n",
    "print(fruits[:3])\n",
    "\n",
    "print(fruits[2:])\n",
    "\n",
    "print(fruits[:])\n",
    "\n",
    "print(fruits[0:-1]) #excludes the last one item\n",
    "\n",
    "#lenght of the list\n",
    "\n",
    "len(fruits)\n",
    "\n",
    "#list modification\n",
    "\n",
    "fruits[0] = 'watermelon'\n",
    "\n",
    "fruits.append('guavava')\n",
    "\n",
    "fruits.insert(1,'pineapple')\n",
    "\n",
    "fruits.remove('Apple')\n",
    "\n",
    "del fruits[0]\n",
    "\n",
    "print(fruits)\n",
    "\n",
    "data.reverse()\n",
    "\n",
    "print(data)\n",
    "\n",
    "fruits.sort()\n",
    "\n",
    "print(fruits)\n",
    "\n",
    "numbers.sort(reverse=True)\n",
    "\n",
    "print(numbers)\n",
    "\n",
    "# data.sort() - gives error as it has different data types in it\n",
    "\n",
    "#to sort lits irrespective of case use .upper or .lower methods\n",
    "\n",
    "fruits.sort(key=str.lower)\n",
    "\n",
    "print(fruits)\n",
    "\n",
    "#using loops to iterate through the list\n",
    "\n",
    "for idx,item in enumerate(fruits):  #idx captures the index - enumerate is the function\n",
    "    print(idx,item)\n",
    "\n",
    "#list concatenation and replication\n",
    "\n",
    "zeros = [0]*20 #creates a list with 20 zeros - replication\n",
    "\n",
    "newlist = fruits + numbers # joining the two lists to one \n",
    "\n",
    "print(newlist)"
   ]
  },
  {
   "cell_type": "code",
   "execution_count": null,
   "id": "6265dcc8",
   "metadata": {},
   "outputs": [],
   "source": [
    " "
   ]
  }
 ],
 "metadata": {
  "kernelspec": {
   "display_name": "Python 3 (ipykernel)",
   "language": "python",
   "name": "python3"
  },
  "language_info": {
   "codemirror_mode": {
    "name": "ipython",
    "version": 3
   },
   "file_extension": ".py",
   "mimetype": "text/x-python",
   "name": "python",
   "nbconvert_exporter": "python",
   "pygments_lexer": "ipython3",
   "version": "3.9.13"
  }
 },
 "nbformat": 4,
 "nbformat_minor": 5
}
